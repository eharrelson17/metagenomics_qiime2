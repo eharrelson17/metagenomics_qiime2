{
  "nbformat": 4,
  "nbformat_minor": 0,
  "metadata": {
    "colab": {
      "provenance": [],
      "authorship_tag": "ABX9TyNOwODVIIFtt5PrW8gjOcir",
      "include_colab_link": true
    },
    "kernelspec": {
      "name": "python3",
      "display_name": "Python 3"
    },
    "language_info": {
      "name": "python"
    }
  },
  "cells": [
    {
      "cell_type": "markdown",
      "metadata": {
        "id": "view-in-github",
        "colab_type": "text"
      },
      "source": [
        "<a href=\"https://colab.research.google.com/github/eharrelson17/metagenomics_qiime2/blob/main/qiime2_colab.ipynb\" target=\"_parent\"><img src=\"https://colab.research.google.com/assets/colab-badge.svg\" alt=\"Open In Colab\"/></a>"
      ]
    },
    {
      "cell_type": "markdown",
      "source": [
        "This is a quick tutorial on how to use qiime2 on google colab. We will be using preprocessed fasta files. These files have been trimmed of their primers and barcodes."
      ],
      "metadata": {
        "id": "vIdVQfeLF_-4"
      }
    },
    {
      "cell_type": "markdown",
      "source": [
        "Note: Google colab is a python notebook that runs through a Linux Virtual Machine. To run our commands, we have to make sure to use proper syntax to let the notebook know we want to run terminal commands not python script. That is why before commands, there are **!** and **%**. When doing command line work locally in terminal, you do not need to use this syntax."
      ],
      "metadata": {
        "id": "KqIx80E9Gc3W"
      }
    },
    {
      "cell_type": "markdown",
      "source": [
        "First step is to download the files needed for this tutorial."
      ],
      "metadata": {
        "id": "Pfyc0VT6G9nY"
      }
    },
    {
      "cell_type": "code",
      "source": [
        "!git clone https://github.com/eharrelson17/metagenomics_qiime2.git"
      ],
      "metadata": {
        "colab": {
          "base_uri": "https://localhost:8080/"
        },
        "id": "WlZEyPrhM1D6",
        "outputId": "37cfa258-73d3-4162-fdf5-13ff249846bc"
      },
      "execution_count": 1,
      "outputs": [
        {
          "output_type": "stream",
          "name": "stdout",
          "text": [
            "Cloning into 'metagenomics_qiime2'...\n",
            "remote: Enumerating objects: 20, done.\u001b[K\n",
            "remote: Counting objects: 100% (20/20), done.\u001b[K\n",
            "remote: Compressing objects: 100% (18/18), done.\u001b[K\n",
            "remote: Total 20 (delta 5), reused 0 (delta 0), pack-reused 0\u001b[K\n",
            "Receiving objects: 100% (20/20), 2.53 MiB | 3.16 MiB/s, done.\n",
            "Resolving deltas: 100% (5/5), done.\n"
          ]
        }
      ]
    },
    {
      "cell_type": "markdown",
      "source": [
        "This next command will take us into the directory with the correct files."
      ],
      "metadata": {
        "id": "pTTPyIT5PpHQ"
      }
    },
    {
      "cell_type": "code",
      "source": [
        "%cd metagenomics_qiime2/"
      ],
      "metadata": {
        "colab": {
          "base_uri": "https://localhost:8080/"
        },
        "id": "TiW02qPlM_vZ",
        "outputId": "6b605881-45ea-4d42-9042-92e5cfa7187a"
      },
      "execution_count": 2,
      "outputs": [
        {
          "output_type": "stream",
          "name": "stdout",
          "text": [
            "/content/metagenomics_qiime2\n"
          ]
        }
      ]
    },
    {
      "cell_type": "markdown",
      "source": [
        "Do not be scared of this next part, all you have to do is run the code. This is what installs miniconda in qiime2. Installation locally is very different, and doesn't require python script. Do not try to run this code outside of google colab. You can find this code in the file labled qiime2_installation.py"
      ],
      "metadata": {
        "id": "xsD-uAoyPAjA"
      }
    },
    {
      "cell_type": "code",
      "source": [
        "#!/usr/bin/env python3\n",
        "\n",
        "\"\"\"Set up Qiime 2 on Google colab.\n",
        "\n",
        "Do not use this on o local machine, especially not as an admin!\n",
        "\"\"\"\n",
        "\n",
        "import os\n",
        "import sys\n",
        "import shutil\n",
        "from subprocess import Popen, PIPE\n",
        "\n",
        "r = Popen([\"pip\", \"install\", \"rich\"])\n",
        "r.wait()\n",
        "from rich.console import Console  # noqa\n",
        "con = Console()\n",
        "\n",
        "PREFIX = \"/usr/local/miniforge3/\"\n",
        "\n",
        "has_conda = \"conda version\" in os.popen(\"%s/bin/conda info\" % PREFIX).read()\n",
        "has_qiime = \"QIIME 2 release:\" in os.popen(\"qiime info\").read()\n",
        "\n",
        "\n",
        "MINICONDA_PATH = (\n",
        "    \"https://github.com/conda-forge/miniforge/releases/latest/download/Miniforge3-Linux-x86_64.sh\"\n",
        ")\n",
        "\n",
        "QIIME_YAML_TEMPLATE = (\n",
        "    \"https://data.qiime2.org/distro/amplicon/qiime2-amplicon-{version}-py{python}-linux-conda.yml\"\n",
        ")\n",
        "\n",
        "if len(sys.argv) == 2:\n",
        "    version = sys.argv[1]\n",
        "else:\n",
        "    version = \"2023.9\"\n",
        "\n",
        "if tuple(float(v) for v in version.split(\".\")) < (2021, 4):\n",
        "    pyver = \"36\"\n",
        "else:\n",
        "    pyver = \"38\"\n",
        "\n",
        "CONDA = \"mamba\"\n",
        "CONDA_ARGS = [\"-q\"]\n",
        "\n",
        "if tuple(float(v) for v in version.split(\".\")) < (2023, 9):\n",
        "    QIIME_YAML_TEMPLATE = (\n",
        "        \"https://data.qiime2.org/distro/amplicon/qiime2-amplicon-2023.9-py38-linux-conda.yml\"\n",
        "    )\n",
        "\n",
        "QIIME_YAML_URL = QIIME_YAML_TEMPLATE.format(version=version, python=pyver)\n",
        "QIIME_YAML = os.path.basename(QIIME_YAML_URL)\n",
        "\n",
        "\n",
        "def cleanup():\n",
        "    \"\"\"Remove downloaded files.\"\"\"\n",
        "    if os.path.exists(os.path.basename(MINICONDA_PATH)):\n",
        "        os.remove(os.path.basename(MINICONDA_PATH))\n",
        "    if os.path.exists(QIIME_YAML):\n",
        "        os.remove(QIIME_YAML)\n",
        "    if os.path.exists(\"/content/sample_data\"):\n",
        "        shutil.rmtree(\"/content/sample_data\")\n",
        "    con.log(\":broom: Cleaned up unneeded files.\")\n",
        "\n",
        "\n",
        "def run_and_check(args, check, message, failure, success, console=con):\n",
        "    \"\"\"Run a command and check that it worked.\"\"\"\n",
        "    console.log(message)\n",
        "    r = Popen(args, env=os.environ, stdout=PIPE, stderr=PIPE,\n",
        "              universal_newlines=True)\n",
        "    o, e = r.communicate()\n",
        "    out = o + e\n",
        "    if r.returncode == 0 and check in out:\n",
        "        console.log(\"[blue]%s[/blue]\" % success)\n",
        "    else:\n",
        "        console.log(\"[red]%s[/red]\" % failure, out)\n",
        "        cleanup()\n",
        "        sys.exit(1)\n",
        "\n",
        "\n",
        "if __name__ == \"__main__\":\n",
        "    if not has_conda:\n",
        "        run_and_check(\n",
        "            [\"wget\", MINICONDA_PATH],\n",
        "            \"saved\",\n",
        "            \":snake: Downloading miniforge...\",\n",
        "            \"failed downloading miniforge :sob:\",\n",
        "            \":snake: Done.\"\n",
        "        )\n",
        "\n",
        "        run_and_check(\n",
        "            [\"bash\", os.path.basename(MINICONDA_PATH), \"-bfp\", PREFIX],\n",
        "            \"installation finished.\",\n",
        "            \":snake: Installing miniforge...\",\n",
        "            \"could not install miniforge :sob:\",\n",
        "            \":snake: Installed miniforge to `/usr/local`.\"\n",
        "        )\n",
        "    else:\n",
        "        con.log(\":snake: Miniforge is already installed. Skipped.\")\n",
        "\n",
        "    if not has_qiime:\n",
        "        run_and_check(\n",
        "            [\"wget\", QIIME_YAML_URL],\n",
        "            \"saved\",\n",
        "            \":mag: Downloading Qiime 2 package list...\",\n",
        "            \"could not download package list :sob:\",\n",
        "            \":mag: Done.\"\n",
        "        )\n",
        "\n",
        "        run_and_check(\n",
        "            [PREFIX + \"bin/\" + CONDA, \"env\", \"create\", *CONDA_ARGS, \"--prefix\", \"/usr/local\", \"--file\", QIIME_YAML],\n",
        "            \"Verifying transaction: ...working... done\",\n",
        "            \":mag: Installing Qiime 2. This may take a little bit.\\n :clock1:\",\n",
        "            \"could not install Qiime 2 :sob:\",\n",
        "            \":mag: Done.\"\n",
        "        )\n",
        "\n",
        "        run_and_check(\n",
        "            [\"pip\", \"install\", \"empress\"],\n",
        "            \"Successfully installed empress-\",\n",
        "            \":evergreen_tree: Installing Empress...\",\n",
        "            \"could not install Empress :sob:\",\n",
        "            \":evergreen_tree: Done.\"\n",
        "        )\n",
        "    else:\n",
        "        con.log(\":mag: Qiime 2 is already installed. Skipped.\")\n",
        "\n",
        "    run_and_check(\n",
        "        [\"qiime\", \"info\"],\n",
        "        \"QIIME 2 release:\",\n",
        "        \":bar_chart: Checking that Qiime 2 command line works...\",\n",
        "        \"Qiime 2 command line does not seem to work :sob:\",\n",
        "        \":bar_chart: Qiime 2 command line looks good :tada:\"\n",
        "    )\n",
        "\n",
        "    if sys.version_info[0:2] == (int(pyver[0]), int(pyver[1])):\n",
        "        sys.path.append(\"/usr/local/lib/python3.{}/site-packages\".format(pyver[1]))\n",
        "        con.log(\":mag: Fixed import paths to include Qiime 2.\")\n",
        "\n",
        "        con.log(\":bar_chart: Checking if Qiime 2 import works...\")\n",
        "        try:\n",
        "            import qiime2  # noqa\n",
        "        except Exception:\n",
        "            con.log(\"[red]Qiime 2 can not be imported :sob:[/red]\")\n",
        "            sys.exit(1)\n",
        "        con.log(\"[blue]:bar_chart: Qiime 2 can be imported :tada:[/blue]\")\n",
        "\n",
        "    cleanup()\n",
        "\n",
        "    con.log(\"[green]Everything is A-OK. \"\n",
        "            \"You can start using Qiime 2 now :thumbs_up:[/green]\")\n"
      ],
      "metadata": {
        "colab": {
          "base_uri": "https://localhost:8080/",
          "height": 362
        },
        "id": "aJEf8vCNOyex",
        "outputId": "8dc38b71-472a-4fa7-e194-45f759ee5253"
      },
      "execution_count": 3,
      "outputs": [
        {
          "output_type": "display_data",
          "data": {
            "text/plain": [
              "\u001b[2;36m[17:32:57]\u001b[0m\u001b[2;36m \u001b[0m🐍 Downloading miniforge\u001b[33m...\u001b[0m                                            \u001b[2m<ipython-input-3-1220b80fbce3>:67\u001b[0m\n"
            ],
            "text/html": [
              "<pre style=\"white-space:pre;overflow-x:auto;line-height:normal;font-family:Menlo,'DejaVu Sans Mono',consolas,'Courier New',monospace\"><span style=\"color: #7fbfbf; text-decoration-color: #7fbfbf\">[17:32:57] </span>🐍 Downloading miniforge<span style=\"color: #808000; text-decoration-color: #808000\">...</span>                                            <span style=\"color: #7f7f7f; text-decoration-color: #7f7f7f\">&lt;ipython-input-3-1220b80fbce3&gt;:67</span>\n",
              "</pre>\n"
            ]
          },
          "metadata": {}
        },
        {
          "output_type": "display_data",
          "data": {
            "text/plain": [
              "\u001b[2;36m[17:32:58]\u001b[0m\u001b[2;36m \u001b[0m\u001b[34m🐍 Done.\u001b[0m                                                               \u001b[2m<ipython-input-3-1220b80fbce3>:73\u001b[0m\n"
            ],
            "text/html": [
              "<pre style=\"white-space:pre;overflow-x:auto;line-height:normal;font-family:Menlo,'DejaVu Sans Mono',consolas,'Courier New',monospace\"><span style=\"color: #7fbfbf; text-decoration-color: #7fbfbf\">[17:32:58] </span><span style=\"color: #000080; text-decoration-color: #000080\">🐍 Done.</span>                                                               <span style=\"color: #7f7f7f; text-decoration-color: #7f7f7f\">&lt;ipython-input-3-1220b80fbce3&gt;:73</span>\n",
              "</pre>\n"
            ]
          },
          "metadata": {}
        },
        {
          "output_type": "display_data",
          "data": {
            "text/plain": [
              "\u001b[2;36m          \u001b[0m\u001b[2;36m \u001b[0m🐍 Installing miniforge\u001b[33m...\u001b[0m                                             \u001b[2m<ipython-input-3-1220b80fbce3>:67\u001b[0m\n"
            ],
            "text/html": [
              "<pre style=\"white-space:pre;overflow-x:auto;line-height:normal;font-family:Menlo,'DejaVu Sans Mono',consolas,'Courier New',monospace\"><span style=\"color: #7fbfbf; text-decoration-color: #7fbfbf\">           </span>🐍 Installing miniforge<span style=\"color: #808000; text-decoration-color: #808000\">...</span>                                             <span style=\"color: #7f7f7f; text-decoration-color: #7f7f7f\">&lt;ipython-input-3-1220b80fbce3&gt;:67</span>\n",
              "</pre>\n"
            ]
          },
          "metadata": {}
        },
        {
          "output_type": "display_data",
          "data": {
            "text/plain": [
              "\u001b[2;36m[17:33:12]\u001b[0m\u001b[2;36m \u001b[0m\u001b[34m🐍 Installed miniforge to `\u001b[0m\u001b[34m/usr/\u001b[0m\u001b[34mlocal\u001b[0m\u001b[34m`.\u001b[0m                                \u001b[2m<ipython-input-3-1220b80fbce3>:73\u001b[0m\n"
            ],
            "text/html": [
              "<pre style=\"white-space:pre;overflow-x:auto;line-height:normal;font-family:Menlo,'DejaVu Sans Mono',consolas,'Courier New',monospace\"><span style=\"color: #7fbfbf; text-decoration-color: #7fbfbf\">[17:33:12] </span><span style=\"color: #000080; text-decoration-color: #000080\">🐍 Installed miniforge to `/usr/local`.</span>                                <span style=\"color: #7f7f7f; text-decoration-color: #7f7f7f\">&lt;ipython-input-3-1220b80fbce3&gt;:73</span>\n",
              "</pre>\n"
            ]
          },
          "metadata": {}
        },
        {
          "output_type": "display_data",
          "data": {
            "text/plain": [
              "\u001b[2;36m          \u001b[0m\u001b[2;36m \u001b[0m🔍 Downloading Qiime \u001b[1;36m2\u001b[0m package list\u001b[33m...\u001b[0m                                 \u001b[2m<ipython-input-3-1220b80fbce3>:67\u001b[0m\n"
            ],
            "text/html": [
              "<pre style=\"white-space:pre;overflow-x:auto;line-height:normal;font-family:Menlo,'DejaVu Sans Mono',consolas,'Courier New',monospace\"><span style=\"color: #7fbfbf; text-decoration-color: #7fbfbf\">           </span>🔍 Downloading Qiime <span style=\"color: #008080; text-decoration-color: #008080; font-weight: bold\">2</span> package list<span style=\"color: #808000; text-decoration-color: #808000\">...</span>                                 <span style=\"color: #7f7f7f; text-decoration-color: #7f7f7f\">&lt;ipython-input-3-1220b80fbce3&gt;:67</span>\n",
              "</pre>\n"
            ]
          },
          "metadata": {}
        },
        {
          "output_type": "display_data",
          "data": {
            "text/plain": [
              "\u001b[2;36m[17:33:13]\u001b[0m\u001b[2;36m \u001b[0m\u001b[34m🔍 Done.\u001b[0m                                                               \u001b[2m<ipython-input-3-1220b80fbce3>:73\u001b[0m\n"
            ],
            "text/html": [
              "<pre style=\"white-space:pre;overflow-x:auto;line-height:normal;font-family:Menlo,'DejaVu Sans Mono',consolas,'Courier New',monospace\"><span style=\"color: #7fbfbf; text-decoration-color: #7fbfbf\">[17:33:13] </span><span style=\"color: #000080; text-decoration-color: #000080\">🔍 Done.</span>                                                               <span style=\"color: #7f7f7f; text-decoration-color: #7f7f7f\">&lt;ipython-input-3-1220b80fbce3&gt;:73</span>\n",
              "</pre>\n"
            ]
          },
          "metadata": {}
        },
        {
          "output_type": "display_data",
          "data": {
            "text/plain": [
              "\u001b[2;36m          \u001b[0m\u001b[2;36m \u001b[0m🔍 Installing Qiime \u001b[1;36m2\u001b[0m. This may take a little bit.                     \u001b[2m<ipython-input-3-1220b80fbce3>:67\u001b[0m\n",
              "\u001b[2;36m           \u001b[0m 🕐                                                                    \u001b[2m                                 \u001b[0m\n"
            ],
            "text/html": [
              "<pre style=\"white-space:pre;overflow-x:auto;line-height:normal;font-family:Menlo,'DejaVu Sans Mono',consolas,'Courier New',monospace\"><span style=\"color: #7fbfbf; text-decoration-color: #7fbfbf\">           </span>🔍 Installing Qiime <span style=\"color: #008080; text-decoration-color: #008080; font-weight: bold\">2</span>. This may take a little bit.                     <span style=\"color: #7f7f7f; text-decoration-color: #7f7f7f\">&lt;ipython-input-3-1220b80fbce3&gt;:67</span>\n",
              "<span style=\"color: #7fbfbf; text-decoration-color: #7fbfbf\">           </span> 🕐                                                                    <span style=\"color: #7f7f7f; text-decoration-color: #7f7f7f\">                                 </span>\n",
              "</pre>\n"
            ]
          },
          "metadata": {}
        },
        {
          "output_type": "display_data",
          "data": {
            "text/plain": [
              "\u001b[2;36m[17:39:10]\u001b[0m\u001b[2;36m \u001b[0m\u001b[34m🔍 Done.\u001b[0m                                                               \u001b[2m<ipython-input-3-1220b80fbce3>:73\u001b[0m\n"
            ],
            "text/html": [
              "<pre style=\"white-space:pre;overflow-x:auto;line-height:normal;font-family:Menlo,'DejaVu Sans Mono',consolas,'Courier New',monospace\"><span style=\"color: #7fbfbf; text-decoration-color: #7fbfbf\">[17:39:10] </span><span style=\"color: #000080; text-decoration-color: #000080\">🔍 Done.</span>                                                               <span style=\"color: #7f7f7f; text-decoration-color: #7f7f7f\">&lt;ipython-input-3-1220b80fbce3&gt;:73</span>\n",
              "</pre>\n"
            ]
          },
          "metadata": {}
        },
        {
          "output_type": "display_data",
          "data": {
            "text/plain": [
              "\u001b[2;36m          \u001b[0m\u001b[2;36m \u001b[0m🌲 Installing Empress\u001b[33m...\u001b[0m                                               \u001b[2m<ipython-input-3-1220b80fbce3>:67\u001b[0m\n"
            ],
            "text/html": [
              "<pre style=\"white-space:pre;overflow-x:auto;line-height:normal;font-family:Menlo,'DejaVu Sans Mono',consolas,'Courier New',monospace\"><span style=\"color: #7fbfbf; text-decoration-color: #7fbfbf\">           </span>🌲 Installing Empress<span style=\"color: #808000; text-decoration-color: #808000\">...</span>                                               <span style=\"color: #7f7f7f; text-decoration-color: #7f7f7f\">&lt;ipython-input-3-1220b80fbce3&gt;:67</span>\n",
              "</pre>\n"
            ]
          },
          "metadata": {}
        },
        {
          "output_type": "display_data",
          "data": {
            "text/plain": [
              "\u001b[2;36m[17:39:15]\u001b[0m\u001b[2;36m \u001b[0m\u001b[34m🌲 Done.\u001b[0m                                                               \u001b[2m<ipython-input-3-1220b80fbce3>:73\u001b[0m\n"
            ],
            "text/html": [
              "<pre style=\"white-space:pre;overflow-x:auto;line-height:normal;font-family:Menlo,'DejaVu Sans Mono',consolas,'Courier New',monospace\"><span style=\"color: #7fbfbf; text-decoration-color: #7fbfbf\">[17:39:15] </span><span style=\"color: #000080; text-decoration-color: #000080\">🌲 Done.</span>                                                               <span style=\"color: #7f7f7f; text-decoration-color: #7f7f7f\">&lt;ipython-input-3-1220b80fbce3&gt;:73</span>\n",
              "</pre>\n"
            ]
          },
          "metadata": {}
        },
        {
          "output_type": "display_data",
          "data": {
            "text/plain": [
              "\u001b[2;36m          \u001b[0m\u001b[2;36m \u001b[0m📊 Checking that Qiime \u001b[1;36m2\u001b[0m command line works\u001b[33m...\u001b[0m                         \u001b[2m<ipython-input-3-1220b80fbce3>:67\u001b[0m\n"
            ],
            "text/html": [
              "<pre style=\"white-space:pre;overflow-x:auto;line-height:normal;font-family:Menlo,'DejaVu Sans Mono',consolas,'Courier New',monospace\"><span style=\"color: #7fbfbf; text-decoration-color: #7fbfbf\">           </span>📊 Checking that Qiime <span style=\"color: #008080; text-decoration-color: #008080; font-weight: bold\">2</span> command line works<span style=\"color: #808000; text-decoration-color: #808000\">...</span>                         <span style=\"color: #7f7f7f; text-decoration-color: #7f7f7f\">&lt;ipython-input-3-1220b80fbce3&gt;:67</span>\n",
              "</pre>\n"
            ]
          },
          "metadata": {}
        },
        {
          "output_type": "display_data",
          "data": {
            "text/plain": [
              "\u001b[2;36m[17:39:29]\u001b[0m\u001b[2;36m \u001b[0m\u001b[34m📊 Qiime \u001b[0m\u001b[1;34m2\u001b[0m\u001b[34m command line looks good 🎉\u001b[0m                                  \u001b[2m<ipython-input-3-1220b80fbce3>:73\u001b[0m\n"
            ],
            "text/html": [
              "<pre style=\"white-space:pre;overflow-x:auto;line-height:normal;font-family:Menlo,'DejaVu Sans Mono',consolas,'Courier New',monospace\"><span style=\"color: #7fbfbf; text-decoration-color: #7fbfbf\">[17:39:29] </span><span style=\"color: #000080; text-decoration-color: #000080\">📊 Qiime </span><span style=\"color: #000080; text-decoration-color: #000080; font-weight: bold\">2</span><span style=\"color: #000080; text-decoration-color: #000080\"> command line looks good 🎉</span>                                  <span style=\"color: #7f7f7f; text-decoration-color: #7f7f7f\">&lt;ipython-input-3-1220b80fbce3&gt;:73</span>\n",
              "</pre>\n"
            ]
          },
          "metadata": {}
        },
        {
          "output_type": "display_data",
          "data": {
            "text/plain": [
              "\u001b[2;36m          \u001b[0m\u001b[2;36m \u001b[0m🧹 Cleaned up unneeded files.                                          \u001b[2m<ipython-input-3-1220b80fbce3>:62\u001b[0m\n"
            ],
            "text/html": [
              "<pre style=\"white-space:pre;overflow-x:auto;line-height:normal;font-family:Menlo,'DejaVu Sans Mono',consolas,'Courier New',monospace\"><span style=\"color: #7fbfbf; text-decoration-color: #7fbfbf\">           </span>🧹 Cleaned up unneeded files.                                          <span style=\"color: #7f7f7f; text-decoration-color: #7f7f7f\">&lt;ipython-input-3-1220b80fbce3&gt;:62</span>\n",
              "</pre>\n"
            ]
          },
          "metadata": {}
        },
        {
          "output_type": "display_data",
          "data": {
            "text/plain": [
              "\u001b[2;36m          \u001b[0m\u001b[2;36m \u001b[0m\u001b[32mEverything is A-OK. You can start using Qiime \u001b[0m\u001b[1;32m2\u001b[0m\u001b[32m now 👍\u001b[0m                \u001b[2m<ipython-input-3-1220b80fbce3>:149\u001b[0m\n"
            ],
            "text/html": [
              "<pre style=\"white-space:pre;overflow-x:auto;line-height:normal;font-family:Menlo,'DejaVu Sans Mono',consolas,'Courier New',monospace\"><span style=\"color: #7fbfbf; text-decoration-color: #7fbfbf\">           </span><span style=\"color: #008000; text-decoration-color: #008000\">Everything is A-OK. You can start using Qiime </span><span style=\"color: #008000; text-decoration-color: #008000; font-weight: bold\">2</span><span style=\"color: #008000; text-decoration-color: #008000\"> now 👍</span>                <span style=\"color: #7f7f7f; text-decoration-color: #7f7f7f\">&lt;ipython-input-3-1220b80fbce3&gt;:149</span>\n",
              "</pre>\n"
            ]
          },
          "metadata": {}
        }
      ]
    },
    {
      "cell_type": "markdown",
      "source": [
        "Now lets make sure qiime2 is really installed properly!!!"
      ],
      "metadata": {
        "id": "80p8KdmzRPFP"
      }
    },
    {
      "cell_type": "markdown",
      "source": [
        "When installing anything that is ran through terminal, it is helpful to check installation by using the --help command."
      ],
      "metadata": {
        "id": "v3szAiLHRcLL"
      }
    },
    {
      "cell_type": "code",
      "source": [
        "!qiime tools --help"
      ],
      "metadata": {
        "colab": {
          "base_uri": "https://localhost:8080/"
        },
        "id": "P3KwNvtgRUSe",
        "outputId": "1dddb422-ebe7-4663-ed6a-e35505a13e57"
      },
      "execution_count": 4,
      "outputs": [
        {
          "output_type": "stream",
          "name": "stdout",
          "text": [
            "Usage: \u001b[94mqiime tools\u001b[0m [OPTIONS] COMMAND [ARGS]...\n",
            "\n",
            "  Tools for working with QIIME 2 files.\n",
            "\n",
            "\u001b[1mOptions\u001b[0m:\n",
            "  \u001b[94m--help\u001b[0m      Show this message and exit.\n",
            "\n",
            "\u001b[1mCommands\u001b[0m:\n",
            "  \u001b[94mcache-create\u001b[0m              Create an empty cache at the given location.\n",
            "  \u001b[94mcache-fetch\u001b[0m               Fetches an artifact out of a cache into a .qza.\n",
            "  \u001b[94mcache-garbage-collection\u001b[0m  Runs garbage collection on the cache at the\n",
            "                            specified location.\n",
            "  \u001b[94mcache-remove\u001b[0m              Removes a given key from a cache.\n",
            "  \u001b[94mcache-status\u001b[0m              Checks the status of the cache.\n",
            "  \u001b[94mcache-store\u001b[0m               Stores a .qza in the cache under a key.\n",
            "  \u001b[94mcast-metadata\u001b[0m             Designate metadata column types.\n",
            "  \u001b[94mcitations\u001b[0m                 Print citations for a QIIME 2 result.\n",
            "  \u001b[94mexport\u001b[0m                    Export data from a QIIME 2 Artifact or a\n",
            "                            Visualization\n",
            "  \u001b[94mextract\u001b[0m                   Extract a QIIME 2 Artifact or Visualization\n",
            "                            archive.\n",
            "  \u001b[94mimport\u001b[0m                    Import data into a new QIIME 2 Artifact.\n",
            "  \u001b[94minspect-metadata\u001b[0m          Inspect columns available in metadata.\n",
            "  \u001b[94mlist-formats\u001b[0m              List the available formats.\n",
            "  \u001b[94mlist-types\u001b[0m                List the available semantic types.\n",
            "  \u001b[94mpeek\u001b[0m                      Take a peek at a QIIME 2 Artifact or\n",
            "                            Visualization.\n",
            "  \u001b[94mreplay-citations\u001b[0m          Reports all citations from a QIIME 2 Artifact...\n",
            "  \u001b[94mreplay-provenance\u001b[0m         Replay provenance from a QIIME 2 Artifact...\n",
            "  \u001b[94mreplay-supplement\u001b[0m         Produces a zipfile package of useful...\n",
            "  \u001b[94mvalidate\u001b[0m                  Validate data in a QIIME 2 Artifact.\n",
            "  \u001b[94mview\u001b[0m                      View a QIIME 2 Visualization.\n"
          ]
        }
      ]
    },
    {
      "cell_type": "markdown",
      "source": [
        "Now we will do some actual work with qiime!!!\n",
        "First step is to import our fasta file into qiime and create a qiime2 artifact. These are specific file types that qiime2 can read. To learn more about qiime artifacts, please visit: https://docs.qiime2.org/2023.9/concepts/#data-files-qiime-2-artifacts"
      ],
      "metadata": {
        "id": "l-r1cux1RpRn"
      }
    },
    {
      "cell_type": "markdown",
      "source": [
        "The file endings of the artifacts can be .qza or .qzv. qzv files can be put into [qiime2 view](https://view.qiime2.org/) and are visuals that can be downloaded and modified through qiime2 view's site. Qza files are not visual files, however are the files that are inputed and outputed after different qiime commands."
      ],
      "metadata": {
        "id": "soy45ATESABr"
      }
    },
    {
      "cell_type": "code",
      "source": [
        "!qiime tools import \\\n",
        "  --input-path practice.fasta \\\n",
        "  --output-path seqs.qza \\\n",
        "  --type 'SampleData[Sequences]'\n"
      ],
      "metadata": {
        "id": "MbTLA70nkKs8",
        "colab": {
          "base_uri": "https://localhost:8080/"
        },
        "outputId": "c00958d1-e957-4386-d170-456a0ba12920"
      },
      "execution_count": 5,
      "outputs": [
        {
          "output_type": "stream",
          "name": "stdout",
          "text": [
            "\u001b[32mImported practice.fasta as QIIME1DemuxDirFmt to seqs.qza\u001b[0m\n",
            "\u001b[0m"
          ]
        }
      ]
    },
    {
      "cell_type": "markdown",
      "source": [
        "Now that we have our sequences in the qiime2 artifact mode, we can move on with our analysis. This next command dereplicates the sequences using a tool in qiime called vsearch. This will give us a table that we will use later on in analysis."
      ],
      "metadata": {
        "id": "0ZPSwGPCkToH"
      }
    },
    {
      "cell_type": "code",
      "source": [
        "!qiime vsearch dereplicate-sequences \\\n",
        "  --i-sequences seqs.qza \\\n",
        "  --o-dereplicated-table table.qza \\\n",
        "  --o-dereplicated-sequences rep-seqs.qza"
      ],
      "metadata": {
        "id": "5m7pYMp5kS3G",
        "colab": {
          "base_uri": "https://localhost:8080/"
        },
        "outputId": "5a4a5626-512b-461a-9dc4-2ec222d15075"
      },
      "execution_count": 6,
      "outputs": [
        {
          "output_type": "stream",
          "name": "stdout",
          "text": [
            "\u001b[32mSaved FeatureTable[Frequency] to: table.qza\u001b[0m\n",
            "\u001b[32mSaved FeatureData[Sequence] to: rep-seqs.qza\u001b[0m\n",
            "\u001b[0m"
          ]
        }
      ]
    },
    {
      "cell_type": "markdown",
      "source": [
        "You might notice that qiime gives us a message that says:\n",
        "\n",
        " Saved FeatureTable[Frequency] to: table.qza\n",
        "Saved FeatureData[Sequence] to: rep-seqs.qza\n",
        "\n",
        "To find out more about the different file types in qiime please go here, but I will explain these really quick [here](https://docs.qiime2.org/2023.9/semantic-types/).\n",
        "\n",
        "FeatureTable[Frequency]: A feature table (e.g., samples by OTUs) where each value indicates the frequency of an OTU in the corresponding sample expressed as raw counts.\n",
        "\n",
        "FeatureData[Sequence]: A single unaligned sequence associated with a feature identifier (e.g. a representative sequence)."
      ],
      "metadata": {
        "id": "d9yzfvt1lJDj"
      }
    },
    {
      "cell_type": "markdown",
      "source": [
        "Next step we are going to take is De Novo clustering. This particular type of clustering does not use a reference database. Clustering into OTUs makes our analysis easier to handle computationally. We will be clustering our OTUs by 99% identity.\n",
        "\n",
        "This command uses our feature table and feature data and creates a new clustered version."
      ],
      "metadata": {
        "id": "PhHjj9FWxKga"
      }
    },
    {
      "cell_type": "code",
      "source": [
        "!qiime vsearch cluster-features-de-novo \\\n",
        "  --i-table table.qza \\\n",
        "  --i-sequences rep-seqs.qza \\\n",
        "  --p-perc-identity 0.99 \\\n",
        "  --o-clustered-table table-dn-99.qza \\\n",
        "  --o-clustered-sequences rep-seqs-dn-99.qza"
      ],
      "metadata": {
        "id": "C7ZN2bgPxJiR",
        "colab": {
          "base_uri": "https://localhost:8080/"
        },
        "outputId": "ffcf4ad7-35fc-48dd-a320-3e1b646fef48"
      },
      "execution_count": 7,
      "outputs": [
        {
          "output_type": "stream",
          "name": "stdout",
          "text": [
            "\u001b[32mSaved FeatureTable[Frequency] to: table-dn-99.qza\u001b[0m\n",
            "\u001b[32mSaved FeatureData[Sequence] to: rep-seqs-dn-99.qza\u001b[0m\n",
            "\u001b[0m"
          ]
        }
      ]
    },
    {
      "cell_type": "markdown",
      "source": [
        "Now that we have our clustered sequences, we can do taxonomic analysis using the green gene 16S database. This is a small database that isn't robust, but since it's smaller it is easier to use with the little computational power we have through google colab.\n",
        "Qiime has qiime formatted classifier files of different databases on their website. You can find this classifier and others [here](https://docs.qiime2.org/2023.9/data-resources/). This next command downloads the database."
      ],
      "metadata": {
        "id": "-ysnEQKEyFwX"
      }
    },
    {
      "cell_type": "code",
      "source": [
        "!wget https://data.qiime2.org/2023.9/common/gg-13-8-99-nb-weighted-classifier.qza"
      ],
      "metadata": {
        "id": "EOfFmWUG3dkR",
        "colab": {
          "base_uri": "https://localhost:8080/"
        },
        "outputId": "681e3bac-20d0-4ad2-8819-eb989c3277fd"
      },
      "execution_count": 11,
      "outputs": [
        {
          "output_type": "stream",
          "name": "stdout",
          "text": [
            "--2024-02-02 17:52:40--  https://data.qiime2.org/2023.9/common/gg-13-8-99-nb-weighted-classifier.qza\n",
            "Resolving data.qiime2.org (data.qiime2.org)... 54.200.1.12\n",
            "Connecting to data.qiime2.org (data.qiime2.org)|54.200.1.12|:443... connected.\n",
            "HTTP request sent, awaiting response... 302 FOUND\n",
            "Location: https://s3-us-west-2.amazonaws.com/qiime2-data/2023.9/common/gg-13-8-99-nb-weighted-classifier.qza [following]\n",
            "--2024-02-02 17:52:40--  https://s3-us-west-2.amazonaws.com/qiime2-data/2023.9/common/gg-13-8-99-nb-weighted-classifier.qza\n",
            "Resolving s3-us-west-2.amazonaws.com (s3-us-west-2.amazonaws.com)... 52.92.148.112, 52.92.229.152, 52.92.153.224, ...\n",
            "Connecting to s3-us-west-2.amazonaws.com (s3-us-west-2.amazonaws.com)|52.92.148.112|:443... connected.\n",
            "HTTP request sent, awaiting response... 200 OK\n",
            "Length: 104964916 (100M) [binary/octet-stream]\n",
            "Saving to: ‘gg-13-8-99-nb-weighted-classifier.qza’\n",
            "\n",
            "gg-13-8-99-nb-weigh 100%[===================>] 100.10M  36.5MB/s    in 2.7s    \n",
            "\n",
            "2024-02-02 17:52:43 (36.5 MB/s) - ‘gg-13-8-99-nb-weighted-classifier.qza’ saved [104964916/104964916]\n",
            "\n"
          ]
        }
      ]
    },
    {
      "cell_type": "markdown",
      "source": [
        "Now lets use the classifier against our sequences."
      ],
      "metadata": {
        "id": "bq1bPe6C3w6A"
      }
    },
    {
      "cell_type": "code",
      "source": [
        "!qiime feature-classifier classify-sklearn \\\n",
        "  --i-classifier gg-13-8-99-nb-weighted-classifier.qza \\\n",
        "  --i-reads rep-seqs-dn-99.qza \\\n",
        "  --o-classification taxonomy.qza"
      ],
      "metadata": {
        "id": "7sKwUOaGyFTe",
        "colab": {
          "base_uri": "https://localhost:8080/"
        },
        "outputId": "3576059f-3d1f-4bbb-8155-6f541d868840"
      },
      "execution_count": 12,
      "outputs": [
        {
          "output_type": "stream",
          "name": "stdout",
          "text": [
            "\u001b[32mSaved FeatureData[Taxonomy] to: taxonomy.qza\u001b[0m\n",
            "\u001b[0m"
          ]
        }
      ]
    },
    {
      "cell_type": "markdown",
      "source": [
        "This next step makes a visual file you can look at in the [qiime view website](https://view.qiime2.org/).\n",
        "\n",
        "After getting the output, put the download and drop the qzv file into the view."
      ],
      "metadata": {
        "id": "OGOk6FrMzy9z"
      }
    },
    {
      "cell_type": "code",
      "source": [
        "!qiime metadata tabulate \\\n",
        "  --m-input-file taxonomy.qza \\\n",
        "  --o-visualization taxonomy.qzv"
      ],
      "metadata": {
        "id": "n5Z9ndqDlxMB",
        "colab": {
          "base_uri": "https://localhost:8080/"
        },
        "outputId": "266279e6-401a-4908-dafb-8be4170d4fe9"
      },
      "execution_count": 13,
      "outputs": [
        {
          "output_type": "stream",
          "name": "stdout",
          "text": [
            "\u001b[32mSaved Visualization to: taxonomy.qzv\u001b[0m\n",
            "\u001b[0m"
          ]
        }
      ]
    },
    {
      "cell_type": "markdown",
      "source": [
        "Now we can make a taxonomy bar plot! For this we have to use a metadata table.\n",
        "A metadata table is made in a spreadsheet (excel), and is saved into a tab delimited text file. This file tells the program how to seperate the sequences into the samples that they came from. It also gives the program information about the samples which can be used to change our bar plot based on different factors within our sample. I recommend looking at the metadata table provided in this tutorial, and also checking out qiime2 metatable doc [here.](https://docs.qiime2.org/2023.9/tutorials/metadata/)"
      ],
      "metadata": {
        "id": "9M55m3re04EV"
      }
    },
    {
      "cell_type": "code",
      "source": [
        "!qiime taxa barplot \\\n",
        "  --i-table table-dn-99.qza \\\n",
        "  --i-taxonomy taxonomy.qza \\\n",
        "  --m-metadata-file metadata1.txt \\\n",
        "  --o-visualization taxa-bar-plots.qzv"
      ],
      "metadata": {
        "id": "O4sp3pZC1f26",
        "colab": {
          "base_uri": "https://localhost:8080/"
        },
        "outputId": "202a797f-e593-4922-f59c-736331486017"
      },
      "execution_count": 14,
      "outputs": [
        {
          "output_type": "stream",
          "name": "stdout",
          "text": [
            "\u001b[32mSaved Visualization to: taxa-bar-plots.qzv\u001b[0m\n",
            "\u001b[0m"
          ]
        }
      ]
    },
    {
      "cell_type": "markdown",
      "source": [
        "You can then download and drag the taxa-bar-plots.qzv file into [qiime view](https://view.qiime2.org/) and see the bacteria within your fasta!"
      ],
      "metadata": {
        "id": "RKue8GQs2Eq2"
      }
    }
  ]
}